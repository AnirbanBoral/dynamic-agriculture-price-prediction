{
 "cells": [
  {
   "cell_type": "code",
   "execution_count": 2,
   "id": "f0f19b99-7d84-48bf-82a0-d164baf62ed8",
   "metadata": {},
   "outputs": [],
   "source": [
    "import pandas as pd\n",
    "import numpy as np\n",
    "import matplotlib.pyplot as plt\n",
    "from sklearn.model_selection import train_test_split\n",
    "from sklearn.preprocessing import StandardScaler, OneHotEncoder"
   ]
  },
  {
   "cell_type": "code",
   "execution_count": 9,
   "id": "d5e52507-b979-445b-b8be-b8f5dbefd062",
   "metadata": {},
   "outputs": [
    {
     "name": "stdout",
     "output_type": "stream",
     "text": [
      "Dataset shape: (100000, 11)\n",
      "Columns: ['State', 'District', 'Market', 'Commodity', 'Variety', 'Grade', 'Arrival_Date', 'Min_Price', 'Max_Price', 'Modal_Price', 'Commodity_Code']\n",
      "Missing values:\n",
      "State             0\n",
      "District          0\n",
      "Market            0\n",
      "Commodity         0\n",
      "Variety           0\n",
      "Grade             0\n",
      "Arrival_Date      0\n",
      "Min_Price         0\n",
      "Max_Price         0\n",
      "Modal_Price       0\n",
      "Commodity_Code    0\n",
      "dtype: int64\n",
      "Categorical columns for encoding: ['State', 'District', 'Market', 'Commodity', 'Variety', 'Grade']\n",
      "Encoded categorical features shape: (100000, 108)\n",
      "Numeric features shape: (100000, 6)\n",
      "Final feature matrix shape: (100000, 114)\n",
      "Target variable shape: (100000,)\n",
      "\n",
      "Training set size: (80000, 114)\n",
      "Test set size: (20000, 114)\n"
     ]
    }
   ],
   "source": [
    "dataset = pd.read_csv(\"C:/Users/Anirban Boral/Desktop/Sem 3/CSET211- Statistical Machine Learning/Project/Data/ProjectData3.csv\")\n",
    "dataset = dataset.head(100000)\n",
    "\n",
    "print(f\"Dataset shape: {dataset.shape}\")\n",
    "print(f\"Columns: {list(dataset.columns)}\")\n",
    "\n",
    "print(f\"Missing values:\\n{dataset.isnull().sum()}\")\n",
    "\n",
    "dataset = dataset.dropna(subset=['Arrival_Date'])\n",
    "\n",
    "dataset['Arrival_Date'] = pd.to_datetime(dataset['Arrival_Date'], errors='coerce')\n",
    "dataset['Year'] = dataset['Arrival_Date'].dt.year\n",
    "dataset['Month'] = dataset['Arrival_Date'].dt.month\n",
    "dataset['Day'] = dataset['Arrival_Date'].dt.day\n",
    "\n",
    "categorical_cols = [\"State\", \"District\", \"Market\", \"Commodity\", \"Variety\", \"Grade\"]\n",
    "print(f\"Categorical columns for encoding: {categorical_cols}\")\n",
    "\n",
    "# One-hot Encoding\n",
    "encoder = OneHotEncoder(sparse_output=False, handle_unknown='ignore')\n",
    "encoded_features = encoder.fit_transform(dataset[categorical_cols])\n",
    "print(f\"Encoded categorical features shape: {encoded_features.shape}\")\n",
    "\n",
    "numeric_cols = ['Year', 'Month', 'Day', 'Commodity_Code', 'Min_Price', 'Max_Price']\n",
    "numeric_features = dataset[numeric_cols].fillna(0).values\n",
    "print(f\"Numeric features shape: {numeric_features.shape}\")\n",
    "\n",
    "X = np.hstack([encoded_features, numeric_features])\n",
    "print(f\"Final feature matrix shape: {X.shape}\")\n",
    "\n",
    "# Target variable\n",
    "y = dataset[\"Modal_Price\"]\n",
    "print(f\"Target variable shape: {y.shape}\")\n",
    "\n",
    "# Split \n",
    "X_train, X_test, y_train, y_test = train_test_split(X, y, test_size=0.2, random_state=42)\n",
    "print(f\"\\nTraining set size: {X_train.shape}\")\n",
    "print(f\"Test set size: {X_test.shape}\")"
   ]
  }
 ],
 "metadata": {
  "kernelspec": {
   "display_name": "Python [conda env:base] *",
   "language": "python",
   "name": "conda-base-py"
  },
  "language_info": {
   "codemirror_mode": {
    "name": "ipython",
    "version": 3
   },
   "file_extension": ".py",
   "mimetype": "text/x-python",
   "name": "python",
   "nbconvert_exporter": "python",
   "pygments_lexer": "ipython3",
   "version": "3.13.5"
  }
 },
 "nbformat": 4,
 "nbformat_minor": 5
}
